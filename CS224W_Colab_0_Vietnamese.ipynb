{
  "nbformat": 4,
  "nbformat_minor": 0,
  "metadata": {
    "kernelspec": {
      "display_name": "Python 3",
      "language": "python",
      "name": "python3"
    },
    "language_info": {
      "codemirror_mode": {
        "name": "ipython",
        "version": 3
      },
      "file_extension": ".py",
      "mimetype": "text/x-python",
      "name": "python",
      "nbconvert_exporter": "python",
      "pygments_lexer": "ipython3",
      "version": "3.7.3"
    },
    "colab": {
      "name": "CS224W - Colab 0.ipynb",
      "provenance": [],
      "collapsed_sections": [],
      "toc_visible": true,
      "machine_shape": "hm"
    },
    "accelerator": "GPU"
  },
  "cells": [
    {
      "cell_type": "markdown",
      "metadata": {
        "id": "anKwy9z7wCba"
      },
      "source": [
        "**Bài tập Colab 0**\n",
        "\n",
        "Khoá học: CS224W: Machine Learning with Graphs | Stanford / Winter 2021\n",
        "\n",
        "Phiên bản dịch sang tiếng Việt bởi Lê Nhựt Nam, sinh viên Khoa học Máy tính, bộ môn Khoa học Máy tính, khoa Công Nghệ Thông Tin, ĐH Khoa học Tự nhiên \n",
        "\n",
        "Copyright CS224W: Machine Learning with Graphs | Stanford / Winter 2021\n",
        "\n",
        "Solution codes thực hiện bởi Lê Nhựt Nam\n",
        "\n"
      ]
    },
    {
      "cell_type": "markdown",
      "metadata": {
        "id": "XuXWJLEm2UWS"
      },
      "source": [
        "# **CS224W - Colab 0**\n",
        "\n",
        "Colab 0 **will not be graded**, thế nên bạn không phải làm tất cả trong bài Colab này. Mặc dù vậy, chúng tôi đề nghị bạn chạy thử Colab này, để mà bạn có thể làm quen với một số khái niệm cơ bản của Graph Mining (Khai thác dữ liệu đồ thị) và Graph Neural Networks (GNN).\n",
        "\n",
        "Trong bài Colab này, chúng tôi sẽ giới thiệu 2 packages, [NetworkX](https://networkx.org/documentation/stable/) và [PyTorch Geometric](https://pytorch-geometric.readthedocs.io/en/latest/).\n",
        "\n",
        "Với phần PyTorch Geometric, bạn không cần phải hiểu tất cả những kết quả. Những nội dung và cài đặt của Graph Neural Network (GNN) sẽ được thảo luận trong những bài giảng và colab sau này.\n",
        "\n",
        "Hãy sao chép một bản copy trước khi bạn chạy Colab này."
      ]
    },
    {
      "cell_type": "markdown",
      "metadata": {
        "id": "8gzsP50bF6Gb"
      },
      "source": [
        "\n",
        "# NetworkX Tutorial\n",
        "\n",
        "NetworkX is one of the most frequently used Python packages to create, manipulate, and mine graphs.\n",
        "\n",
        "Main parts of this tutorial are adapted from https://colab.research.google.com/github/jdwittenauer/ipython-notebooks/blob/master/notebooks/libraries/NetworkX.ipynb#scrollTo=zA1OO6huHeV6"
      ]
    },
    {
      "cell_type": "markdown",
      "metadata": {
        "id": "Nwwq0nSdmsOL"
      },
      "source": [
        "## Cài đặt - Setup"
      ]
    },
    {
      "cell_type": "code",
      "metadata": {
        "id": "QeqN7MHvH1OA"
      },
      "source": [
        "# Import the NetworkX package\n",
        "import networkx as nx"
      ],
      "execution_count": 1,
      "outputs": []
    },
    {
      "cell_type": "markdown",
      "metadata": {
        "id": "MCIeGAfLfAMK"
      },
      "source": [
        "## Đồ thị Graph\n",
        "\n",
        "NetworkX cung cấp nhiều lớp (classes) để lưu trữ những loại đồ thị (graphs) khác nhau, ví dụ như đồ thị hữu hướng (directed graph), đồ thị vô hướng (undirected graphs). Nó cũng cung cấp nhiều lớp (classes) để khởi tạo đa đồ thị (cả đồ thị vô hướng và hữu hướng).\n",
        "\n",
        "Để tìm hiểu nhiều hơn về NetworkX, bạn có thể tham khảo [NetworkX graph types](https://networkx.org/documentation/stable/reference/classes/index.html)."
      ]
    },
    {
      "cell_type": "code",
      "metadata": {
        "id": "qSI_n6P-e0PW"
      },
      "source": [
        "# Khởi tạo một đồ thị vô hướng G - (Create an undirected graph G)\n",
        "G = nx.Graph()\n",
        "print(G.is_directed())\n",
        "\n",
        "# Khởi tạo một đồ thị hữu hướng H - (Create a directed graph H)\n",
        "H = nx.DiGraph()\n",
        "print(H.is_directed())\n",
        "\n",
        "# Add graph level attribute\n",
        "G.graph[\"Name\"] = \"Bar\"\n",
        "print(G.graph)"
      ],
      "execution_count": null,
      "outputs": []
    },
    {
      "cell_type": "markdown",
      "metadata": {
        "id": "x0pLs0-Ka9j8"
      },
      "source": [
        "## Nút - Node\n",
        "\n",
        "Nút (với các thuộc tính - attributes) có thể dễ dàng thêm vào NetworkX graphs."
      ]
    },
    {
      "cell_type": "code",
      "metadata": {
        "id": "jQ8ApAL5H1GB"
      },
      "source": [
        "# Thêm một node với những thuộc tính (feature, label)\n",
        "G.add_node(0, feature=0, label=0)\n",
        "\n",
        "# Lấy ra thuộc tính của node 0\n",
        "node_0_attr = G.nodes[0]\n",
        "print(\"Node 0 has the attributes {}\".format(node_0_attr))"
      ],
      "execution_count": null,
      "outputs": []
    },
    {
      "cell_type": "code",
      "metadata": {
        "id": "btOdMYqJaKia"
      },
      "source": [
        "# Thêm nhiều node với những thuộc tính (feature, label)\n",
        "G.add_nodes_from([\n",
        "  (1, {\"feature\": 1, \"label\": 1}),\n",
        "  (2, {\"feature\": 2, \"label\": 2})\n",
        "])\n",
        "\n",
        "# Duyệt qua tất cả các node\n",
        "# Set tham số data=True sẽ trả về những thuộc tính của node\n",
        "for node in G.nodes(data=True):\n",
        "  print(node)\n",
        "\n",
        "# Lấy ra số lượng node của đồ thị\n",
        "num_nodes = G.number_of_nodes()\n",
        "print(\"G has {} nodes\".format(num_nodes))"
      ],
      "execution_count": null,
      "outputs": []
    },
    {
      "cell_type": "markdown",
      "metadata": {
        "id": "0AdoaZPgbRis"
      },
      "source": [
        "## Cạnh - Edge\n",
        "Tương tự như nút (nodes), cạnh (edges) với những thuộc tính (attributes) cũng có thể dễ dàng thêm vào NetworkX graphs."
      ]
    },
    {
      "cell_type": "code",
      "metadata": {
        "id": "0szH5F6EH079"
      },
      "source": [
        "# Thêm một cạnh (0, 1) với trọng số cạnh bằng 0.5\n",
        "G.add_edge(0, 1, weight=0.5)\n",
        "\n",
        "# Lấy thuộc tính của cạnh (0, 1)\n",
        "edge_0_1_attr = G.edges[(0, 1)]\n",
        "print(\"Edge (0, 1) has the attributes {}\".format(edge_0_1_attr))"
      ],
      "execution_count": null,
      "outputs": []
    },
    {
      "cell_type": "code",
      "metadata": {
        "id": "QRTmi4EUaf_I"
      },
      "source": [
        "# Thêm nhiều cạnh với trọng số cạnh tuơng ứng\n",
        "# Cạnh (1, 2) với trọng số 0.3\n",
        "# Cạnh (2, 0) với trọng số 0.1\n",
        "G.add_edges_from([\n",
        "  (1, 2, {\"weight\": 0.3}),\n",
        "  (2, 0, {\"weight\": 0.1})\n",
        "])\n",
        "\n",
        "# Duyệt qua tất cả các cạnh\n",
        "# Không đặt tham số data=True, do vậy chỉ trả về cạnh\n",
        "for edge in G.edges():\n",
        "  print(edge)\n",
        "\n",
        "# Lấy số lượng cạnh của đồ thị\n",
        "num_edges = G.number_of_edges()\n",
        "print(\"G has {} edges\".format(num_edges))"
      ],
      "execution_count": null,
      "outputs": []
    },
    {
      "cell_type": "markdown",
      "metadata": {
        "id": "9u1Utjn4bc7k"
      },
      "source": [
        "## Trực quan hoá - Visualization"
      ]
    },
    {
      "cell_type": "code",
      "metadata": {
        "id": "lykPzFOEahuP"
      },
      "source": [
        "# Vẽ đồ thị bằng .draw(), set with_labels=True để hiện thị label từng đỉnh\n",
        "nx.draw(G, with_labels = True)"
      ],
      "execution_count": null,
      "outputs": []
    },
    {
      "cell_type": "markdown",
      "metadata": {
        "id": "_Q6YTP2FDbOS"
      },
      "source": [
        "## Bậc đỉnh và lân cận - Node Degree and Neighbor"
      ]
    },
    {
      "cell_type": "code",
      "metadata": {
        "id": "GFA3B6Z_DE3q"
      },
      "source": [
        "node_id = 1\n",
        "\n",
        "# In ra bậc của node có node_id = 1\n",
        "print(\"Node {} has degree {}\".format(node_id, G.degree[node_id]))\n",
        "\n",
        "# In ra các lân cận của node có node_id = 1\n",
        "for neighbor in G.neighbors(node_id):\n",
        "  print(\"Node {} has neighbor {}\".format(node_id, neighbor))"
      ],
      "execution_count": null,
      "outputs": []
    },
    {
      "cell_type": "markdown",
      "metadata": {
        "id": "4gVRVckZeSdA"
      },
      "source": [
        "## Một số chức năng khác - Other Functionalities\n",
        "NetworkX cũng cung cấp nhiều phương thức hữu ích khác để nghiên cứu về đồ thị.\n",
        "\n",
        "Dưới đây là một ví dụ lấy thông tin [PageRank](https://networkx.org/documentation/stable/reference/algorithms/generated/networkx.algorithms.link_analysis.pagerank_alg.pagerank.html#networkx.algorithms.link_analysis.pagerank_alg.pagerank) của các nút (Chúng ta bàn về PageRank trong các bài Colab và bài giảng sau - Xem lectures của CS224W)."
      ]
    },
    {
      "cell_type": "code",
      "metadata": {
        "id": "_gZfQ82Wiuvv"
      },
      "source": [
        "num_nodes = 4\n",
        "# Khởi tạo một đường đi giống đồ thị và thay đổi nó thành một đồ thị hữu hướng\n",
        "G = nx.DiGraph(nx.path_graph(num_nodes))\n",
        "\n",
        "# Gọi hàm vẽ đồ thị, set with_labels=True để in ra các đỉnh đồ thị\n",
        "nx.draw(G, with_labels = True)\n",
        "\n",
        "# Lấy thông tin PageRank\n",
        "pr = nx.pagerank(G, alpha=0.8)\n",
        "pr"
      ],
      "execution_count": null,
      "outputs": []
    },
    {
      "cell_type": "markdown",
      "metadata": {
        "id": "RrIFCJnlvGkg"
      },
      "source": [
        "## Tài liệu - Documentation"
      ]
    },
    {
      "cell_type": "markdown",
      "metadata": {
        "id": "_7PBwhIKu3et"
      },
      "source": [
        "Bạn có thể tìm hiểu nhiều hơn về các hàm trong thư viện NetworkX thông qua [tài liệu](https://networkx.org/documentation/stable/) của nó."
      ]
    },
    {
      "cell_type": "markdown",
      "metadata": {
        "id": "MDcCjrW3JWzG"
      },
      "source": [
        "# PyTorch Geometric Tutorial\n",
        "\n",
        "PyTorch Geometric (PyG) là một thư viện mở rộng cho PyTorch. Nó cũng cấp những cơ sở hữu ích dành cho việc phát triển mô hình Học Sâu Đồ thị (Graph Deep Learning models), bao gồm đa dạng các tầng neural đồ thị (graph neural network layers) và một số lượng lớn kho dữ liệu đánh giá.\n",
        "\n",
        "Đừng lo lắng, nếu bạn chưa hiểu gì về một số kiến thức như `GCNConv`, chúng ta sẽ tìm hiểu tất cả về chúng trong các bài giảng sắp tới :) (Xem lectures của CS224W)\n",
        "\n",
        "Tutorial (Bài hướng dẫn này) dựa vào Colab https://colab.research.google.com/drive/1h3-vJGRVloF5zStxL5I0rSy4ZUPNsjy8?usp=sharing#scrollTo=ci-LpZWhRJoI được trình bày bởi [Matthias Fey](https://rusty1s.github.io/#/)\n"
      ]
    },
    {
      "cell_type": "code",
      "metadata": {
        "id": "WU7NCZtQ6msa"
      },
      "source": [
        "import torch\n",
        "print(\"PyTorch has version {}\".format(torch.__version__))"
      ],
      "execution_count": null,
      "outputs": []
    },
    {
      "cell_type": "markdown",
      "metadata": {
        "id": "n7gMjMCT677n"
      },
      "source": [
        "## Cài đặt - Setup\n",
        "\n",
        "The installation of PyG on Colab can be a little bit tricky. Execute the cell below -- in case of issues, more information can be found on the [PyG's installation page](https://pytorch-geometric.readthedocs.io/en/latest/notes/installation.html)."
      ]
    },
    {
      "cell_type": "code",
      "metadata": {
        "id": "tRNEKu-R66Cw"
      },
      "source": [
        "# Cài đặt các packages dependencies\n",
        "!pip install -q torch-scatter -f https://pytorch-geometric.com/whl/torch-1.8.0+cu101.html\n",
        "!pip install -q torch-sparse -f https://pytorch-geometric.com/whl/torch-1.8.0+cu101.html\n",
        "\n",
        "# Cài đặt PyTorch Geometric Package\n",
        "!pip install -q torch-geometric"
      ],
      "execution_count": null,
      "outputs": []
    },
    {
      "cell_type": "markdown",
      "metadata": {
        "id": "HLxnaKsN8GVf"
      },
      "source": [
        "## Trực quan hoá - Visualization"
      ]
    },
    {
      "cell_type": "code",
      "metadata": {
        "id": "qywlcjyr8USw"
      },
      "source": [
        "# Helper function cho việc trực quan hoá đồ thị\n",
        "%matplotlib inline\n",
        "import torch\n",
        "import networkx as nx\n",
        "import matplotlib.pyplot as plt\n",
        "\n",
        "\n",
        "# Hàm trực quan hoá cho NX Graph, PyTorch Tensor\n",
        "def visualize(h, color, epoch=None, loss=None):\n",
        "    '''\n",
        "    Function: visualize\n",
        "    Description: Helper function for visualization.\n",
        "    Parameters:\n",
        "      - h:\n",
        "      - color:\n",
        "      - epoch: Default=None\n",
        "      - loss: Default=None\n",
        "    Return: No return\n",
        "    '''\n",
        "    plt.figure(figsize=(7,7))\n",
        "    plt.xticks([])\n",
        "    plt.yticks([])\n",
        "\n",
        "    if torch.is_tensor(h):\n",
        "        h = h.detach().cpu().numpy()\n",
        "        plt.scatter(h[:, 0], h[:, 1], s=140, c=color, cmap=\"Set2\")\n",
        "        if epoch is not None and loss is not None:\n",
        "            plt.xlabel(f'Epoch: {epoch}, Loss: {loss.item():.4f}', fontsize=16)\n",
        "    else:\n",
        "        nx.draw_networkx(G, pos=nx.spring_layout(G, seed=42), with_labels=False,\n",
        "                         node_color=color, cmap=\"Set2\")\n",
        "    plt.show()"
      ],
      "execution_count": null,
      "outputs": []
    },
    {
      "cell_type": "markdown",
      "metadata": {
        "id": "bbny-iTO7NQN"
      },
      "source": [
        "## Giới thiệu về Graph Neural Networks - Introduction\n",
        "\n",
        "Trong thời gian gần đây, Học Sâu trên đồ thị đã nổi lên trở thành một trong những lĩnh vực nghiên cứu nóng hổi trong cộng đồng Deep Learning. **Graph Neural Networks (GNNs)** với mục đích tổng quát hóa các khái niệm Học Sâu cổ điển thành dữ liệu có cấu trúc bất thường (trái ngược với hình ảnh hoặc văn bản) và cho phép mạng Neural suy luận về các đối tượng và mối quan hệ của chúng.\n",
        "\n",
        "Bài hướng dẫn này sẽ giới thiệu cho các bạn một số kiến thức sơ đẳng về Học Sâu trên đồ thị thông qua Graph Neural Networks dựa trên thư viện **[PyTorch Geometric (PyG) library](https://github.com/rusty1s/pytorch_geometric)**.\n",
        "\n",
        "PyTorch Geometric là một thư viện mở rộng cho frame Deep Learning nổi tiếng - [PyTorch](https://pytorch.org/), bao gồm nhiều phương thức đa dạng cũng như hàm hỗ trợ cho việc cài đặt Graph Neural Networks dễ dàng.\n",
        "\n",
        "Dựa theo [Kipf et al. (2017)](https://arxiv.org/abs/1609.02907), hãy cùng đắm mình vào thế giới của GNNs bằng cách qua sát ví dụ về đồ thị có cấu trúc đơn giản, được biết đến với tên [**Zachary's karate club network**](https://en.wikipedia.org/wiki/Zachary%27s_karate_club). Đây là một đồ thị mô tả mạng xã hội của 34 thành viên của một câu lạc bộ Karate và những liên kết giữa những thành viên mà không nằm trong câu lạc bộ. Chúng tôi rất quan tâm chúng trong việc phát hiện các nhóm (lớp) phát sinh từ tương tác của thành viên.\n"
      ]
    },
    {
      "cell_type": "markdown",
      "metadata": {
        "id": "g3uPffzbyqn9"
      },
      "source": [
        "## Kho dữ liệu - Dataset\n",
        "\n",
        "PyTorch Geometric cung cấp các truy cập dễ dàng đến bộ dữ liệu thông qua [`torch_geometric.datasets`](https://pytorch-geometric.readthedocs.io/en/latest/modules/datasets.html#torch_geometric.datasets):"
      ]
    },
    {
      "cell_type": "code",
      "metadata": {
        "id": "YrpL9CtS7nx2"
      },
      "source": [
        "from torch_geometric.datasets import KarateClub\n",
        "\n",
        "dataset = KarateClub()\n",
        "print(f'Dataset: {dataset}:')\n",
        "print('======================')\n",
        "print(f'Number of graphs: {len(dataset)}')\n",
        "print(f'Number of features: {dataset.num_features}')\n",
        "print(f'Number of classes: {dataset.num_classes}')"
      ],
      "execution_count": null,
      "outputs": []
    },
    {
      "cell_type": "markdown",
      "metadata": {
        "id": "lCeRGa2q7sdl"
      },
      "source": [
        "Sau khi khởi tạo bộ dữ liệu [`KarateClub`](https://pytorch-geometric.readthedocs.io/en/latest/modules/datasets.html#torch_geometric.datasets.KarateClub), đầu tiên, chúng ta có thể quan sát một số thuộc tính của nó. Ví dụ như, cũng ta có thể thấy rằng bộ dữ liệu hiện có chính xác **một đồ thị**, và mỗi node trong bộ dữ liệu được gán bằng một **vector đặc trưng 34 chiều** (đơn nhất mô tả các thành viên trong câu lạc bộ Karate). Hơn nữa, đồ thị bao gồm **4 lớp**, biểu diễn nhóm (lớp) mà mỗi một node thuộc về.\n",
        "\n",
        "Bây giờ, hãy quan sát đồ thị phía dưới một cách chi tiết hơn:"
      ]
    },
    {
      "cell_type": "code",
      "metadata": {
        "id": "sTLapYhP7uCn"
      },
      "source": [
        "data = dataset[0]  # Lấy đối tượng đầu tiên của bộ dữ liệu\n",
        "\n",
        "print(data) # In đối tượng đó ra\n",
        "print('==============================================================')\n",
        "\n",
        "# Những thông tin thống kê chi tiết về dữ liệu\n",
        "print(f'Number of nodes: {data.num_nodes}')\n",
        "print(f'Number of edges: {data.num_edges}')\n",
        "print(f'Average node degree: {data.num_edges / data.num_nodes:.2f}')\n",
        "print(f'Number of training nodes: {data.train_mask.sum()}')\n",
        "print(f'Training node label rate: {int(data.train_mask.sum()) / data.num_nodes:.2f}')\n",
        "print(f'Contains isolated nodes: {data.contains_isolated_nodes()}')\n",
        "print(f'Contains self-loops: {data.contains_self_loops()}')\n",
        "print(f'Is undirected: {data.is_undirected()}')"
      ],
      "execution_count": null,
      "outputs": []
    },
    {
      "cell_type": "markdown",
      "metadata": {
        "id": "lIzbIoc-y8J4"
      },
      "source": [
        "## Dữ liệu - Data"
      ]
    },
    {
      "cell_type": "markdown",
      "metadata": {
        "id": "I5zhmKIH72Rf"
      },
      "source": [
        "Mỗi đồ thị trong PyTorch Geometric được biểu diễn bằng một đối tượng [`Data`](https://pytorch-geometric.readthedocs.io/en/latest/modules/data.html#torch_geometric.data.Data) object, chứa toàn bộ thông tin mô tả biểu diễn đồ thị của nó.\n",
        "\n",
        "Chúng ta có thể in ra data object bất kỳ lúc nào thông qua `print(data)` để nhận được một mô tả tóm tắt về tất cả các thuộc tính của nó (attributes) và kích thước của những thuộc tính đó:\n",
        "```\n",
        "Data(edge_index=[2, 156], x=[34, 34], y=[34], train_mask=[34])\n",
        "```\n",
        "Chúng ta có thể nhận thấy rằng `data` object có 4 thuộc tính:\n",
        "- Thuộc tính `edge_index`: chứa những thông tin về **graph connectivity** - tính liên thông, tức là một tuple của chỉ số node nguồn và chỉ node đích cho mỗi cạnh\n",
        "- Thuộc tính `x` - **node features** : ví dụ như mỗi node trong 34 node sẽ được gán một vector đặc trưng 34 chiều\n",
        "- Thuộc tính `y` - **node labels**: mỗi node sẽ thuộc về chính xác một lớp nào đó\n",
        "- Thuộc tính `train_mask`: một thuộc tính bổ sung, mô tả những node mà chúng ta đã biết chính xác nó thuộc về lớp (nhóm) nào.\n",
        "\n",
        "Tổng kết lại, chúng ta chỉ biết nhãn đúng của 4 node (mỗi node đại diện cho một nhóm), và nhiệm vụ của chúng ta là suy luận để gán nhãn cho tất cả những node còn lại.\n",
        "\n",
        "The `data` object also provides some **utility functions** to infer some basic properties of the underlying graph.\n",
        "\n",
        "`data` object cũng cung cấp một số **utility functions** để suy ra một số thuộc tính cơ bản của đồ thị phía dưới\n",
        "\n",
        "Ví dụ như là, chúng ta có thể dễ dàng suy ra liệu có tồn tại các nút bị cô lập trong biểu đồ hay không, (tức là, không tồn tại bất kỳ nối vào một node nào đó), liệu rằng đồ thị có tồn tại chu trình hay không (tức là $(v, v) \\in \\mathcal{E}$) hoặc là với mỗi cạnh $(v, w) \\in \\mathcal{E}$ thì cũng tồn tại một cạnh  $(w, v) \\in \\mathcal{E}$)."
      ]
    },
    {
      "cell_type": "code",
      "metadata": {
        "id": "iFA6Xi4O79r0"
      },
      "source": [
        "from IPython.display import Javascript  # Restrict height of output cell.\n",
        "display(Javascript('''google.colab.output.setIframeHeight(0, true, {maxHeight: 300})'''))\n",
        "\n",
        "edge_index = data.edge_index\n",
        "print(edge_index.t())"
      ],
      "execution_count": null,
      "outputs": []
    },
    {
      "cell_type": "markdown",
      "metadata": {
        "id": "nLLsT0ROzffp"
      },
      "source": [
        "## Chỉ mục cạnh - Edge Index"
      ]
    },
    {
      "cell_type": "markdown",
      "metadata": {
        "id": "wQJyi9OB8dh_"
      },
      "source": [
        "Bằng cách in ra `edge_index`, chúng ta có thể hiểu nhiều hơn cách mà PyG biểu diễn đồ thị liên thông nội. Chúng ta có thể thấy rằng với mỗi cạnh, `edge_index` là một bộ gồm 2 chỉ số node, với giá trị đầu tiên mô tả chỉ số node nguồn và giá trị thứ hai mô tả chỉ số node đích của cạnh\n",
        "\n",
        "Cách biểu diễn này được gọi là **COO format (coordinate format)** thường dùng cho việc biểu diễn các sparse matrix - ma trận thưa. Thay vì giữ lại thông tin kề trong một biểu diễn dày đặc $\\mathbf{A} \\in \\{ 0, 1 \\}^{|\\mathcal{V}| \\times |\\mathcal{V}|}$, PyG biểu diễn đồ thị một cách thưa thớt, có nghĩa là chỉ giữ lại các toạ độ/ giá trị cho những vị trí trong $\\mathbf{A}$ là khác không.\n",
        "\n",
        "Chúng ta có thể trực quan đồ thi bằng cách chuyển đổi nó sang định dạng thư viện `networkx` - thư viện giúp cài đặt, thực hiện một số thao tác trên đồ thị, công cụ mạnh mẽ cho việc trực quan hoá."
      ]
    },
    {
      "cell_type": "code",
      "metadata": {
        "id": "3KfJHtlV8h3W"
      },
      "source": [
        "from torch_geometric.utils import to_networkx\n",
        "\n",
        "G = to_networkx(data, to_undirected=True)\n",
        "visualize(G, color=data.y)"
      ],
      "execution_count": null,
      "outputs": []
    },
    {
      "cell_type": "markdown",
      "metadata": {
        "id": "NUdHZY2u8vn3"
      },
      "source": [
        "## Cài đặt Graph Neural Networks - Implementing Graph Neural Networks\n",
        "\n",
        "After learning about PyG's data handling, it's time to implement our first Graph Neural Network!\n",
        "\n",
        "For this, we will use one of the most simple GNN operators, the **GCN layer** ([Kipf et al. (2017)](https://arxiv.org/abs/1609.02907)).\n",
        "\n",
        "PyG implements this layer via [`GCNConv`](https://pytorch-geometric.readthedocs.io/en/latest/modules/nn.html#torch_geometric.nn.conv.GCNConv), which can be executed by passing in the node feature representation `x` and the COO graph connectivity representation `edge_index`.\n",
        "\n",
        "With this, we are ready to create our first Graph Neural Network by defining our network architecture in a `torch.nn.Module` class:"
      ]
    },
    {
      "cell_type": "code",
      "metadata": {
        "id": "6tQGQF8r8zIr"
      },
      "source": [
        "import torch\n",
        "from torch.nn import Linear\n",
        "from torch_geometric.nn import GCNConv\n",
        "\n",
        "\n",
        "class GCN(torch.nn.Module):\n",
        "    def __init__(self):\n",
        "        super(GCN, self).__init__()\n",
        "        torch.manual_seed(12345)\n",
        "        self.conv1 = GCNConv(dataset.num_features, 4)\n",
        "        self.conv2 = GCNConv(4, 4)\n",
        "        self.conv3 = GCNConv(4, 2)\n",
        "        self.classifier = Linear(2, dataset.num_classes)\n",
        "\n",
        "    def forward(self, x, edge_index):\n",
        "        h = self.conv1(x, edge_index)\n",
        "        h = h.tanh()\n",
        "        h = self.conv2(h, edge_index)\n",
        "        h = h.tanh()\n",
        "        h = self.conv3(h, edge_index)\n",
        "        h = h.tanh()  # Final GNN embedding space.\n",
        "        \n",
        "        # Apply a final (linear) classifier.\n",
        "        out = self.classifier(h)\n",
        "\n",
        "        return out, h\n",
        "\n",
        "model = GCN()\n",
        "print(model)"
      ],
      "execution_count": null,
      "outputs": []
    },
    {
      "cell_type": "markdown",
      "metadata": {
        "id": "5zgbaD5P8_M_"
      },
      "source": [
        "Here, we first initialize all of our building blocks in `__init__` and define the computation flow of our network in `forward`.\n",
        "We first define and stack **three graph convolution layers**, which corresponds to aggregating 3-hop neighborhood information around each node (all nodes up to 3 \"hops\" away).\n",
        "In addition, the `GCNConv` layers reduce the node feature dimensionality to $2$, *i.e.*, $34 \\rightarrow 4 \\rightarrow 4 \\rightarrow 2$. Each `GCNConv` layer is enhanced by a [tanh](https://pytorch.org/docs/stable/generated/torch.nn.Tanh.html?highlight=tanh#torch.nn.Tanh) non-linearity.\n",
        "\n",
        "After that, we apply a single linear transformation ([`torch.nn.Linear`](https://pytorch.org/docs/stable/generated/torch.nn.Linear.html?highlight=linear#torch.nn.Linear)) that acts as a classifier to map our nodes to 1 out of the 4 classes/communities.\n",
        "\n",
        "We return both the output of the final classifier as well as the final node embeddings produced by our GNN.\n",
        "We proceed to initialize our final model via `GCN()`, and printing our model produces a summary of all its used sub-modules."
      ]
    },
    {
      "cell_type": "code",
      "metadata": {
        "id": "48uhs_0j9AMX"
      },
      "source": [
        "model = GCN()\n",
        "\n",
        "_, h = model(data.x, data.edge_index)\n",
        "print(f'Embedding shape: {list(h.shape)}')\n",
        "\n",
        "visualize(h, color=data.y)"
      ],
      "execution_count": null,
      "outputs": []
    },
    {
      "cell_type": "markdown",
      "metadata": {
        "id": "nDtJ9Zjw9I_Y"
      },
      "source": [
        "Remarkably, even before training the weights of our model, the model produces an embedding of nodes that closely resembles the community-structure of the graph.\n",
        "Nodes of the same color (community) are already closely clustered together in the embedding space, although the weights of our model are initialized **completely at random** and we have not yet performed any training so far!\n",
        "This leads to the conclusion that GNNs introduce a strong inductive bias, leading to similar embeddings for nodes that are close to each other in the input graph.\n",
        "\n",
        "### Huấn luyện trên Karate Club Network - Training on the Karate Club Network\n",
        "\n",
        "But can we do better? Let's look at an example on how to train our network parameters based on the knowledge of the community assignments of 4 nodes in the graph (one for each community):\n",
        "\n",
        "Since everything in our model is differentiable and parameterized, we can add some labels, train the model and observe how the embeddings react.\n",
        "Here, we make use of a semi-supervised or transductive learning procedure: We simply train against one node per class, but are allowed to make use of the complete input graph data.\n",
        "\n",
        "Training our model is very similar to any other PyTorch model.\n",
        "In addition to defining our network architecture, we define a loss critertion (here, [`CrossEntropyLoss`](https://pytorch.org/docs/stable/generated/torch.nn.CrossEntropyLoss.html)) and initialize a stochastic gradient optimizer (here, [`Adam`](https://pytorch.org/docs/stable/optim.html?highlight=adam#torch.optim.Adam)).\n",
        "After that, we perform multiple rounds of optimization, where each round consists of a forward and backward pass to compute the gradients of our model parameters w.r.t. to the loss derived from the forward pass.\n",
        "If you are not new to PyTorch, this scheme should appear familar to you. \n",
        "Otherwise, the PyTorch docs provide [a good introduction on how to train a neural network in PyTorch](https://pytorch.org/tutorials/beginner/blitz/cifar10_tutorial.html#define-a-loss-function-and-optimizer).\n",
        "\n",
        "Note that our semi-supervised learning scenario is achieved by the following line:\n",
        "```\n",
        "loss = criterion(out[data.train_mask], data.y[data.train_mask])\n",
        "```\n",
        "While we compute node embeddings for all of our nodes, we **only make use of the training nodes for computing the loss**.\n",
        "Here, this is implemented by filtering the output of the classifier `out` and ground-truth labels `data.y` to only contain the nodes in the `train_mask`.\n",
        "\n",
        "Let us now start training and see how our node embeddings evolve over time (best experienced by explicitely running the code):"
      ]
    },
    {
      "cell_type": "code",
      "metadata": {
        "id": "FI3DETGi9ND6"
      },
      "source": [
        "import time\n",
        "from IPython.display import Javascript  # Restrict height of output cell.\n",
        "display(Javascript('''google.colab.output.setIframeHeight(0, true, {maxHeight: 430})'''))\n",
        "\n",
        "model = GCN()\n",
        "criterion = torch.nn.CrossEntropyLoss()  # Define loss criterion.\n",
        "optimizer = torch.optim.Adam(model.parameters(), lr=0.01)  # Define optimizer.\n",
        "\n",
        "def train(data):\n",
        "    optimizer.zero_grad()  # Clear gradients.\n",
        "    out, h = model(data.x, data.edge_index)  # Perform a single forward pass.\n",
        "    loss = criterion(out[data.train_mask], data.y[data.train_mask])  # Compute the loss solely based on the training nodes.\n",
        "    loss.backward()  # Derive gradients.\n",
        "    optimizer.step()  # Update parameters based on gradients.\n",
        "    return loss, h\n",
        "\n",
        "for epoch in range(401):\n",
        "    loss, h = train(data)\n",
        "    # Visualize the node embeddings every 10 epochs\n",
        "    if epoch % 10 == 0:\n",
        "        visualize(h, color=data.y, epoch=epoch, loss=loss)\n",
        "        time.sleep(0.3)"
      ],
      "execution_count": null,
      "outputs": []
    },
    {
      "cell_type": "markdown",
      "metadata": {
        "id": "F2B3X6tf9YpS"
      },
      "source": [
        "As one can see, our 3-layer GCN model manages to linearly separating the communities and classifying most of the nodes correctly.\n",
        "\n",
        "Furthermore, we did this all with a few lines of code, thanks to the PyTorch Geometric library which helped us out with data handling and GNN implementations.\n"
      ]
    },
    {
      "cell_type": "markdown",
      "metadata": {
        "id": "E9bELRjibIRO"
      },
      "source": [
        "## Tài liệu - Documentation\n",
        "\n"
      ]
    },
    {
      "cell_type": "markdown",
      "metadata": {
        "id": "OmqyWVNObNcK"
      },
      "source": [
        "You can explore more PyG functions through its [documentation](https://pytorch-geometric.readthedocs.io/en/latest/)."
      ]
    }
  ]
}